{
  "nbformat": 4,
  "nbformat_minor": 0,
  "metadata": {
    "colab": {
      "name": "MensajesAutoWhatsApp.ipynb",
      "provenance": [],
      "authorship_tag": "ABX9TyMm8F7Wtxh1DEED77gyDNNN",
      "include_colab_link": true
    },
    "kernelspec": {
      "name": "python3",
      "display_name": "Python 3"
    }
  },
  "cells": [
    {
      "cell_type": "markdown",
      "metadata": {
        "id": "view-in-github",
        "colab_type": "text"
      },
      "source": [
        "<a href=\"https://colab.research.google.com/github/nirodriguezsa/Algoritmos/blob/master/MensajesAutoWhatsApp.ipynb\" target=\"_parent\"><img src=\"https://colab.research.google.com/assets/colab-badge.svg\" alt=\"Open In Colab\"/></a>"
      ]
    },
    {
      "cell_type": "code",
      "metadata": {
        "colab": {
          "base_uri": "https://localhost:8080/"
        },
        "id": "Ugj_156_X70J",
        "outputId": "7e9aa877-b63f-48bd-e661-e301ef41f78a"
      },
      "source": [
        "!pip install PyAutoGUI"
      ],
      "execution_count": null,
      "outputs": [
        {
          "output_type": "stream",
          "text": [
            "Requirement already satisfied: PyAutoGUI in /usr/local/lib/python3.6/dist-packages (0.9.52)\n",
            "Requirement already satisfied: PyTweening>=1.0.1 in /usr/local/lib/python3.6/dist-packages (from PyAutoGUI) (1.0.3)\n",
            "Requirement already satisfied: pygetwindow>=0.0.5 in /usr/local/lib/python3.6/dist-packages (from PyAutoGUI) (0.0.9)\n",
            "Requirement already satisfied: mouseinfo in /usr/local/lib/python3.6/dist-packages (from PyAutoGUI) (0.1.3)\n",
            "Requirement already satisfied: pyscreeze>=0.1.21 in /usr/local/lib/python3.6/dist-packages (from PyAutoGUI) (0.1.26)\n",
            "Requirement already satisfied: python3-Xlib; platform_system == \"Linux\" and python_version >= \"3.0\" in /usr/local/lib/python3.6/dist-packages (from PyAutoGUI) (0.15)\n",
            "Requirement already satisfied: pymsgbox in /usr/local/lib/python3.6/dist-packages (from PyAutoGUI) (1.0.9)\n",
            "Requirement already satisfied: pyrect in /usr/local/lib/python3.6/dist-packages (from pygetwindow>=0.0.5->PyAutoGUI) (0.1.4)\n",
            "Requirement already satisfied: Pillow>=4.0.0; python_version == \"3.6\" in /usr/local/lib/python3.6/dist-packages (from mouseinfo->PyAutoGUI) (7.0.0)\n",
            "Requirement already satisfied: pyperclip in /usr/local/lib/python3.6/dist-packages (from mouseinfo->PyAutoGUI) (1.8.1)\n"
          ],
          "name": "stdout"
        }
      ]
    },
    {
      "cell_type": "code",
      "metadata": {
        "colab": {
          "base_uri": "https://localhost:8080/",
          "height": 367
        },
        "id": "cYsFadi5XNuJ",
        "outputId": "ec5cebc4-90c2-4e8e-f1c2-145f660df634"
      },
      "source": [
        "import PyAutoGUI as pg\r\n",
        "import webbrowser as web\r\n",
        "import time\r\n",
        "import pandas as pd\r\n",
        "\r\n",
        "data = pd.read_csv(\"datos.csv\")\r\n",
        "data_dict = data.to_dict('list')\r\n",
        "celulares = data_dict['celular']\r\n",
        "mensajes = data_dict['mensaje']\r\n",
        "combo = zip(celulares,mensajes)\r\n",
        "first = True\r\n",
        "for celular,mensaje in combo:\r\n",
        "    time.sleep(8)\r\n",
        "    web.open(\"https://web.whatsapp.com/send?phone=\"+celular+\"&text=\"+mensaje)\r\n",
        "    if first:\r\n",
        "        time.sleep(8)\r\n",
        "        first=False\r\n",
        "    width,height = pg.size()\r\n",
        "    pg.click(width/2,height/2)\r\n",
        "    time.sleep(10)\r\n",
        "    pg.press('enter')\r\n",
        "    time.sleep(6)\r\n",
        "    pg.hotkey('ctrl', 'w')"
      ],
      "execution_count": null,
      "outputs": [
        {
          "output_type": "error",
          "ename": "ModuleNotFoundError",
          "evalue": "ignored",
          "traceback": [
            "\u001b[0;31m---------------------------------------------------------------------------\u001b[0m",
            "\u001b[0;31mModuleNotFoundError\u001b[0m                       Traceback (most recent call last)",
            "\u001b[0;32m<ipython-input-16-99b8f6c0b93e>\u001b[0m in \u001b[0;36m<module>\u001b[0;34m()\u001b[0m\n\u001b[0;32m----> 1\u001b[0;31m \u001b[0;32mimport\u001b[0m \u001b[0mPyAutoGUI\u001b[0m \u001b[0;32mas\u001b[0m \u001b[0mpg\u001b[0m\u001b[0;34m\u001b[0m\u001b[0;34m\u001b[0m\u001b[0m\n\u001b[0m\u001b[1;32m      2\u001b[0m \u001b[0;32mimport\u001b[0m \u001b[0mwebbrowser\u001b[0m \u001b[0;32mas\u001b[0m \u001b[0mweb\u001b[0m\u001b[0;34m\u001b[0m\u001b[0;34m\u001b[0m\u001b[0m\n\u001b[1;32m      3\u001b[0m \u001b[0;32mimport\u001b[0m \u001b[0mtime\u001b[0m\u001b[0;34m\u001b[0m\u001b[0;34m\u001b[0m\u001b[0m\n\u001b[1;32m      4\u001b[0m \u001b[0;32mimport\u001b[0m \u001b[0mpandas\u001b[0m \u001b[0;32mas\u001b[0m \u001b[0mpd\u001b[0m\u001b[0;34m\u001b[0m\u001b[0;34m\u001b[0m\u001b[0m\n\u001b[1;32m      5\u001b[0m \u001b[0;34m\u001b[0m\u001b[0m\n",
            "\u001b[0;31mModuleNotFoundError\u001b[0m: No module named 'PyAutoGUI'",
            "",
            "\u001b[0;31m---------------------------------------------------------------------------\u001b[0;32m\nNOTE: If your import is failing due to a missing package, you can\nmanually install dependencies using either !pip or !apt.\n\nTo view examples of installing some common dependencies, click the\n\"Open Examples\" button below.\n\u001b[0;31m---------------------------------------------------------------------------\u001b[0m\n"
          ]
        }
      ]
    }
  ]
}