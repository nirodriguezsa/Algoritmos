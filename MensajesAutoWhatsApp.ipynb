{
  "nbformat": 4,
  "nbformat_minor": 0,
  "metadata": {
    "colab": {
      "name": "MensajesAutoWhatsApp.ipynb",
      "provenance": [],
      "authorship_tag": "ABX9TyMm8F7Wtxh1DEED77gyDNNN",
      "include_colab_link": true
    },
    "kernelspec": {
      "name": "python3",
      "display_name": "Python 3"
    }
  },
  "cells": [
    {
      "cell_type": "markdown",
      "metadata": {
        "id": "view-in-github",
        "colab_type": "text"
      },
      "source": [
        "<a href=\"https://colab.research.google.com/github/nirodriguezsa/Algoritmos/blob/master/MensajesAutoWhatsApp.ipynb\" target=\"_parent\"><img src=\"https://colab.research.google.com/assets/colab-badge.svg\" alt=\"Open In Colab\"/></a>"
      ]
    },
    {
      "cell_type": "code",
      "metadata": {
        "id": "Ugj_156_X70J"
      },
      "source": [
        "!pip install PyAutoGUI"
      ],
      "execution_count": null,
      "outputs": []
    },
    {
      "cell_type": "code",
      "metadata": {
        "id": "cYsFadi5XNuJ"
      },
      "source": [
        "import PyAutoGUI as pg\r\n",
        "import webbrowser as web\r\n",
        "import time\r\n",
        "import pandas as pd\r\n",
        "\r\n",
        "data = pd.read_csv(\"datos.csv\")\r\n",
        "data_dict = data.to_dict('list')\r\n",
        "celulares = data_dict['celular']\r\n",
        "mensajes = data_dict['mensaje']\r\n",
        "combo = zip(celulares,mensajes)\r\n",
        "first = True\r\n",
        "for celular,mensaje in combo:\r\n",
        "    time.sleep(8)\r\n",
        "    web.open(\"https://web.whatsapp.com/send?phone=\"+celular+\"&text=\"+mensaje)\r\n",
        "    if first:\r\n",
        "        time.sleep(8)\r\n",
        "        first=False\r\n",
        "    width,height = pg.size()\r\n",
        "    pg.click(width/2,height/2)\r\n",
        "    time.sleep(10)\r\n",
        "    pg.press('enter')\r\n",
        "    time.sleep(6)\r\n",
        "    pg.hotkey('ctrl', 'w')"
      ],
      "execution_count": null,
      "outputs": []
    }
  ]
}